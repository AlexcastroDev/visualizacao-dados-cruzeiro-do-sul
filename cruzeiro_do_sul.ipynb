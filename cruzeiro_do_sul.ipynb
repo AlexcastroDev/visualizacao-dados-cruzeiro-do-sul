{
  "nbformat": 4,
  "nbformat_minor": 0,
  "metadata": {
    "colab": {
      "name": "cruzeiro do sul.ipynb",
      "provenance": [],
      "collapsed_sections": [],
      "authorship_tag": "ABX9TyOStWKz4xEIvHZiFe6YWSYl",
      "include_colab_link": true
    },
    "kernelspec": {
      "name": "python3",
      "display_name": "Python 3"
    },
    "language_info": {
      "name": "python"
    }
  },
  "cells": [
    {
      "cell_type": "markdown",
      "metadata": {
        "id": "view-in-github",
        "colab_type": "text"
      },
      "source": [
        "<a href=\"https://colab.research.google.com/github/AlexcastroDev/visualizacao-dados-cruzeiro-do-sul/blob/main/cruzeiro_do_sul.ipynb\" target=\"_parent\"><img src=\"https://colab.research.google.com/assets/colab-badge.svg\" alt=\"Open In Colab\"/></a>"
      ]
    },
    {
      "cell_type": "markdown",
      "metadata": {
        "id": "sOzyRtmN9TLD"
      },
      "source": [
        ""
      ]
    },
    {
      "cell_type": "markdown",
      "metadata": {
        "id": "pHAcsPjN9CnP"
      },
      "source": [
        "# Visualização de dados"
      ]
    },
    {
      "cell_type": "markdown",
      "metadata": {
        "id": "1tQMyp8g9VKk"
      },
      "source": [
        "Projeto da disciplina\n",
        "um dataset usando ao menos três técnicas estudadas na\n",
        "\n",
        "O projeto da disciplina consiste em apresentar uma implementação, em Python, da visualização de informações presentes disciplina\n",
        "\n",
        "Requisitos:\n",
        ". O dataset deve trazer dados reais.\n",
        "\n",
        "• As visualizações devem ser adequadas à natureza dos dados e todas devem ser relacionadas entre si, já que se referem a partes do mesmo dataset.\n",
        "\n",
        "• Deve ser escolhida ao menos uma técnica (mínimo três) de cada uma das cinco unidades da disciplina."
      ]
    },
    {
      "cell_type": "code",
      "metadata": {
        "id": "YJpTgOa9fbiM",
        "colab": {
          "base_uri": "https://localhost:8080/",
          "height": 195
        },
        "outputId": "fd0394f7-e4cf-4713-8eda-44f7fb1151b1"
      },
      "source": [
        "import pandas as pd\n",
        "import numpy as np\n",
        "import matplotlib.pyplot as plt\n",
        "\n",
        "CovidInformation = pd.read_csv('./Covid19.csv')\n",
        "CovidInformation['Date'] = pd.to_datetime(CovidInformation['Date'])\n",
        "CovidInformation.head()\n"
      ],
      "execution_count": 63,
      "outputs": [
        {
          "output_type": "execute_result",
          "data": {
            "text/html": [
              "<div>\n",
              "<style scoped>\n",
              "    .dataframe tbody tr th:only-of-type {\n",
              "        vertical-align: middle;\n",
              "    }\n",
              "\n",
              "    .dataframe tbody tr th {\n",
              "        vertical-align: top;\n",
              "    }\n",
              "\n",
              "    .dataframe thead th {\n",
              "        text-align: right;\n",
              "    }\n",
              "</style>\n",
              "<table border=\"1\" class=\"dataframe\">\n",
              "  <thead>\n",
              "    <tr style=\"text-align: right;\">\n",
              "      <th></th>\n",
              "      <th>Sno</th>\n",
              "      <th>Date</th>\n",
              "      <th>State/UnionTerritory</th>\n",
              "      <th>ConfirmedIndianNational</th>\n",
              "      <th>ConfirmedForeignNational</th>\n",
              "      <th>Cured</th>\n",
              "      <th>Deaths</th>\n",
              "    </tr>\n",
              "  </thead>\n",
              "  <tbody>\n",
              "    <tr>\n",
              "      <th>0</th>\n",
              "      <td>1</td>\n",
              "      <td>2020-01-30</td>\n",
              "      <td>Kerala</td>\n",
              "      <td>1</td>\n",
              "      <td>0</td>\n",
              "      <td>0</td>\n",
              "      <td>0</td>\n",
              "    </tr>\n",
              "    <tr>\n",
              "      <th>1</th>\n",
              "      <td>2</td>\n",
              "      <td>2020-01-31</td>\n",
              "      <td>Kerala</td>\n",
              "      <td>1</td>\n",
              "      <td>0</td>\n",
              "      <td>0</td>\n",
              "      <td>0</td>\n",
              "    </tr>\n",
              "    <tr>\n",
              "      <th>2</th>\n",
              "      <td>3</td>\n",
              "      <td>2020-01-02</td>\n",
              "      <td>Kerala</td>\n",
              "      <td>2</td>\n",
              "      <td>0</td>\n",
              "      <td>0</td>\n",
              "      <td>0</td>\n",
              "    </tr>\n",
              "    <tr>\n",
              "      <th>3</th>\n",
              "      <td>4</td>\n",
              "      <td>2020-02-02</td>\n",
              "      <td>Kerala</td>\n",
              "      <td>3</td>\n",
              "      <td>0</td>\n",
              "      <td>0</td>\n",
              "      <td>0</td>\n",
              "    </tr>\n",
              "    <tr>\n",
              "      <th>4</th>\n",
              "      <td>5</td>\n",
              "      <td>2020-03-02</td>\n",
              "      <td>Kerala</td>\n",
              "      <td>3</td>\n",
              "      <td>0</td>\n",
              "      <td>0</td>\n",
              "      <td>0</td>\n",
              "    </tr>\n",
              "  </tbody>\n",
              "</table>\n",
              "</div>"
            ],
            "text/plain": [
              "   Sno       Date State/UnionTerritory  ...  ConfirmedForeignNational  Cured  Deaths\n",
              "0    1 2020-01-30               Kerala  ...                         0      0       0\n",
              "1    2 2020-01-31               Kerala  ...                         0      0       0\n",
              "2    3 2020-01-02               Kerala  ...                         0      0       0\n",
              "3    4 2020-02-02               Kerala  ...                         0      0       0\n",
              "4    5 2020-03-02               Kerala  ...                         0      0       0\n",
              "\n",
              "[5 rows x 7 columns]"
            ]
          },
          "metadata": {
            "tags": []
          },
          "execution_count": 63
        }
      ]
    },
    {
      "cell_type": "code",
      "metadata": {
        "colab": {
          "base_uri": "https://localhost:8080/"
        },
        "id": "LWCaAMsvkGm_",
        "outputId": "0a71985f-c6d7-4a8f-b4c6-41535bab8d99"
      },
      "source": [
        "y = CovidInformation.groupby('State/UnionTerritory').ConfirmedIndianNational.sum().sort_values()\n",
        "\n",
        "y.head()"
      ],
      "execution_count": 64,
      "outputs": [
        {
          "output_type": "execute_result",
          "data": {
            "text/plain": [
              "State/UnionTerritory\n",
              "Chandigarh                       1\n",
              "Chattisgarh                      1\n",
              "Chhattisgarh                     2\n",
              "Union Territory of Chandigarh    2\n",
              "Himachal Pradesh                 2\n",
              "Name: ConfirmedIndianNational, dtype: int64"
            ]
          },
          "metadata": {
            "tags": []
          },
          "execution_count": 64
        }
      ]
    },
    {
      "cell_type": "code",
      "metadata": {
        "colab": {
          "base_uri": "https://localhost:8080/",
          "height": 646
        },
        "id": "PE8vBjOHy8Zx",
        "outputId": "be8bc733-40ff-4bfc-a439-94dab153db69"
      },
      "source": [
        "plt.figure(figsize=(6,11))\n",
        "plt.barh(y.index, y.values)\n",
        "plt.show()"
      ],
      "execution_count": 65,
      "outputs": [
        {
          "output_type": "display_data",
          "data": {
            "image/png": "[encoded data removed]",
            "text/plain": [
              "<Figure size 432x792 with 1 Axes>"
            ]
          },
          "metadata": {
            "tags": [],
            "needs_background": "light"
          }
        }
      ]
    },
    {
      "cell_type": "code",
      "metadata": {
        "colab": {
          "base_uri": "https://localhost:8080/",
          "height": 374
        },
        "id": "W0TcJKHKzZCn",
        "outputId": "3ed43211-5046-49ad-a8d1-abd3258996c3"
      },
      "source": [
        "y = CovidInformation.groupby('State/UnionTerritory').Cured.sum().sort_values(ascending=False).head(5)\n",
        "plt.figure(figsize=(23,6))\n",
        "plt.bar(y.index, y.values)\n",
        "plt.show()"
      ],
      "execution_count": 66,
      "outputs": [
        {
          "output_type": "display_data",
          "data": {
            "image/png": "[encoded data removed]",
            "text/plain": [
              "<Figure size 1656x432 with 1 Axes>"
            ]
          },
          "metadata": {
            "tags": [],
            "needs_background": "light"
          }
        }
      ]
    },
    {
      "cell_type": "code",
      "metadata": {
        "colab": {
          "base_uri": "https://localhost:8080/",
          "height": 248
        },
        "id": "YereCzTD0V4b",
        "outputId": "9b069a78-25cb-4b3c-e7a6-79eb84dc9cf8"
      },
      "source": [
        "local = CovidInformation.ConfirmedIndianNational.sum()\n",
        "foreign = CovidInformation.ConfirmedForeignNational.sum()\n",
        "\n",
        "plt.pie([local, foreign], labels=['Indianos', \"Estrangeiros\"])\n",
        "plt.show()"
      ],
      "execution_count": 67,
      "outputs": [
        {
          "output_type": "display_data",
          "data": {
            "image/png": "[encoded data removed]",
            "text/plain": [
              "<Figure size 432x288 with 1 Axes>"
            ]
          },
          "metadata": {
            "tags": []
          }
        }
      ]
    }
  ]
}