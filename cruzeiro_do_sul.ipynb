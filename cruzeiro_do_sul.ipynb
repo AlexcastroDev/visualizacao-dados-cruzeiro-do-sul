{
  "nbformat": 4,
  "nbformat_minor": 0,
  "metadata": {
    "colab": {
      "name": "cruzeiro do sul.ipynb",
      "provenance": [],
      "collapsed_sections": [],
      "authorship_tag": "ABX9TyPlTjTlk1WHxFNf2YeLeVGM",
      "include_colab_link": true
    },
    "kernelspec": {
      "name": "python3",
      "display_name": "Python 3"
    },
    "language_info": {
      "name": "python"
    }
  },
  "cells": [
    {
      "cell_type": "markdown",
      "metadata": {
        "id": "view-in-github",
        "colab_type": "text"
      },
      "source": [
        "<a href=\"https://colab.research.google.com/github/AlexcastroDev/visualizacao-dados-cruzeiro-do-sul/blob/main/cruzeiro_do_sul.ipynb\" target=\"_parent\"><img src=\"https://colab.research.google.com/assets/colab-badge.svg\" alt=\"Open In Colab\"/></a>"
      ]
    },
    {
      "cell_type": "code",
      "metadata": {
        "id": "YJpTgOa9fbiM"
      },
      "source": [
        "import pandas as pd\n",
        "import numpy as np\n",
        "import matplotlib.pyplot as plt\n",
        "\n",
        "ItensReportados = pd.DataFrame.from_records(pd.read_csv('./claims-data-2015-as-of-feb-9-2016.csv'))"
      ],
      "execution_count": 20,
      "outputs": []
    },
    {
      "cell_type": "markdown",
      "metadata": {
        "id": "Zz1Hht7ilENT"
      },
      "source": [
        "Com base nos dados de 2015 a 09 de Fevereiro de 2016, conforme na fonte abaixo:\n",
        "\n",
        "https://www.dhs.gov/tsa-claims-data\n",
        "\n",
        "Temos total de 4.551 itens perdidos por passageiros, e para chegarmos nesse valor, usamos o seguinte código:"
      ]
    },
    {
      "cell_type": "code",
      "metadata": {
        "colab": {
          "base_uri": "https://localhost:8080/"
        },
        "id": "LWCaAMsvkGm_",
        "outputId": "0a15b5e8-92b4-44bb-e180-133bc6ee279e"
      },
      "source": [
        "query = ItensReportados['Claim Type'].str.contains('Passenger Property Loss')\n",
        "ItensPerdidos = delta[query]\n",
        "print('Total de itens perdidos:')\n",
        "print(ItensPerdidos.sum(1))"
      ],
      "execution_count": 21,
      "outputs": [
        {
          "output_type": "stream",
          "text": [
            "Total de itens perdidos:\n",
            "2       2015102326219\n",
            "5       2015081024734\n",
            "6       2015092825697\n",
            "7       2015010919746\n",
            "8       2015022720896\n",
            "            ...      \n",
            "8660    2015120827394\n",
            "8661    2015121427528\n",
            "8664    2016010428072\n",
            "8665    2016011328300\n",
            "8666    2015123128015\n",
            "Length: 4551, dtype: int64\n"
          ],
          "name": "stdout"
        }
      ]
    },
    {
      "cell_type": "markdown",
      "metadata": {
        "id": "uN9X-FeLmZ8d"
      },
      "source": [
        "Com base nisso, temos a visualização dos seguintes tipos de itens perdidos:"
      ]
    },
    {
      "cell_type": "code",
      "metadata": {
        "id": "IwgeMIO-miI0"
      },
      "source": [
        "Categorias = ItensPerdidos.groupby('Item Category').head()\n",
        "EixoCategoria = Categorias.values\n",
        "\n",
        "# plt.bar(['Categoria'], EixoCategoria)\n",
        "# plt.show()"
      ],
      "execution_count": 39,
      "outputs": []
    }
  ]
}